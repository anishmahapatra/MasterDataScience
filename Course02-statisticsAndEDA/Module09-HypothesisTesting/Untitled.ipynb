{
 "cells": [
  {
   "cell_type": "code",
   "execution_count": 1,
   "metadata": {},
   "outputs": [
    {
     "name": "stdout",
     "output_type": "stream",
     "text": [
      "ddddaacccb\n",
      "3\n",
      "<built-in method join of str object at 0x0000014169C77C70>\n"
     ]
    }
   ],
   "source": [
    "string1=input()\n",
    "n=int(input())\n",
    "#write your code here\n",
    "\n",
    "from collections import Counter\n",
    "\n",
    "def mostFrequentLetter(s, n):\n",
    "    ctr = Counter(c for c in s.lower() if c.isalpha())\n",
    "    return ''.join\n",
    "\n",
    "hey = mostFrequentLetter(string1, n)\n",
    "print(hey)"
   ]
  }
 ],
 "metadata": {
  "kernelspec": {
   "display_name": "Python 3",
   "language": "python",
   "name": "python3"
  },
  "language_info": {
   "codemirror_mode": {
    "name": "ipython",
    "version": 3
   },
   "file_extension": ".py",
   "mimetype": "text/x-python",
   "name": "python",
   "nbconvert_exporter": "python",
   "pygments_lexer": "ipython3",
   "version": "3.7.1"
  }
 },
 "nbformat": 4,
 "nbformat_minor": 2
}
