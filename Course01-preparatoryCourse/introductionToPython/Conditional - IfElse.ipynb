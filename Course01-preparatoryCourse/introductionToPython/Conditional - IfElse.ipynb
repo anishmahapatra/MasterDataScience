{
 "cells": [
  {
   "cell_type": "code",
   "execution_count": null,
   "metadata": {},
   "outputs": [],
   "source": [
    "score = int(input(\"Enter your test score : \"))\n",
    "passing = 40\n",
    "distinction = 90\n"
   ]
  },
  {
   "cell_type": "code",
   "execution_count": 11,
   "metadata": {
    "scrolled": true
   },
   "outputs": [
    {
     "data": {
      "text/plain": [
       "True"
      ]
     },
     "execution_count": 11,
     "metadata": {},
     "output_type": "execute_result"
    }
   ],
   "source": [
    "my_word = \"Acrobat\"\n",
    "\n",
    "vowels = ('a','e','i','o','u','A','E','I','O','U')\n",
    "my_word.startswith(vowels)"
   ]
  },
  {
   "cell_type": "code",
   "execution_count": 14,
   "metadata": {},
   "outputs": [
    {
     "name": "stdout",
     "output_type": "stream",
     "text": [
      "NO\n"
     ]
    }
   ],
   "source": [
    "input_str = 'alpha'\n",
    "vowels = ('u','o','i','e','a')\n",
    "if input_str.lower() in vowels:\n",
    "    print('YES')\n",
    "else:\n",
    "    print('NO')"
   ]
  },
  {
   "cell_type": "code",
   "execution_count": null,
   "metadata": {},
   "outputs": [],
   "source": [
    "if score >= distinction:\n",
    "    print(\"You're at the top! You’ve earned a distinction!\")\n",
    "\n",
    "if score >= passing and score < distinction:\n",
    "    print(\"You have passed!\")\n",
    "\n",
    "if score < passing:\n",
    "    print(\"Sorry! You have failed\")\n"
   ]
  },
  {
   "cell_type": "code",
   "execution_count": null,
   "metadata": {},
   "outputs": [],
   "source": [
    "if score==100:\n",
    "    print(\"Perfect\")\n",
    "elif  90<=score<100:\n",
    "    print(\"Distinction\")\n",
    "elif 65<=score<90:\n",
    "    print(\"First Class\")\n",
    "elif 40<=score<65:\n",
    "    print(\"Second Class\")\n",
    "else:\n",
    "    print(\"Failed\")\n"
   ]
  },
  {
   "cell_type": "code",
   "execution_count": 18,
   "metadata": {},
   "outputs": [
    {
     "data": {
      "text/plain": [
       "'randyr'"
      ]
     },
     "execution_count": 18,
     "metadata": {},
     "output_type": "execute_result"
    }
   ],
   "source": [
    "st1 = 'randyR'\n",
    "st1.lower()"
   ]
  },
  {
   "cell_type": "code",
   "execution_count": null,
   "metadata": {},
   "outputs": [],
   "source": [
    "statement = \"The coffee is bad\"\n",
    "if 'bad' in statement:\n",
    "    print(\"Bad review!\")\n",
    "\n",
    "statement2 = \"This phone works great\"\n",
    "if 'bad' in statement2:\n",
    "    print(\"This is not a bad review\")\n"
   ]
  },
  {
   "cell_type": "code",
   "execution_count": null,
   "metadata": {},
   "outputs": [],
   "source": [
    "num = int(input(\"Enter a number: \"))\n",
    "#enter 24\n",
    "if num%2==0:\n",
    "    print(\"Even\")\n",
    "    if num%4==0:\n",
    "        print(\"divisible by 4\")\n",
    "    else:\n",
    "        print(\"Not divisible by 4\")\n",
    "else:\n",
    "    print(\"Odd\")\n",
    "    if num%3==0:\n",
    "        print(\"Divisible by 3\")\n",
    "    else:\n",
    "        print(\"Not divisible by 3\")\n"
   ]
  },
  {
   "cell_type": "code",
   "execution_count": null,
   "metadata": {},
   "outputs": [],
   "source": [
    "if None:\n",
    "    print(\"Is True\")\n",
    "else:\n",
    "    print(\"Is False\")"
   ]
  }
 ],
 "metadata": {
  "anaconda-cloud": {},
  "kernelspec": {
   "display_name": "Python 3",
   "language": "python",
   "name": "python3"
  },
  "language_info": {
   "codemirror_mode": {
    "name": "ipython",
    "version": 3
   },
   "file_extension": ".py",
   "mimetype": "text/x-python",
   "name": "python",
   "nbconvert_exporter": "python",
   "pygments_lexer": "ipython3",
   "version": "3.7.1"
  }
 },
 "nbformat": 4,
 "nbformat_minor": 1
}
