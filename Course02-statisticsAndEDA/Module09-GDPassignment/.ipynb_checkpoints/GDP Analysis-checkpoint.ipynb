{
 "cells": [
  {
   "cell_type": "markdown",
   "metadata": {},
   "source": [
    "## Assignment GDP Analysis\n",
    "<i><b> Author:</b> <u>Anish Mahapatra</u></i>\n",
    "\n",
    "<i><b>Email-id:</b> anishmahapatra01@gmail.com </i>\n",
    "\n",
    "##### Module 09 - Assignment: GDP Analysis\n",
    "\n",
    "The purpose of this the overall GDP Analysis is to help identify areas to focus on that will foster economic development for the respective states. This will be done by analyzing the GDP.\n",
    "\n",
    "<b>GDP:</b> Monetary value of final goods and services produced by a country/state in a given period of time. It mostly consists of the following three sectors:\n",
    "- Primary sector (agriculture)\n",
    "- Secondary sector (industry)\n",
    "- Tertiary sector (services)\n",
    "\n",
    "In the <b>first part</b> of the analysis, the following steps will be taken care of:\n",
    "- the GSDP of Indian States - both total and per capita will be analyzed\n",
    "- The States will be divided into 4 cases on the basis of GSDP analysis\n",
    "- Post categorizaion, analysis will be done to identify the sectors that contribute the most to GDP\n",
    "\n",
    "In the <b>second part</b> of the analysis, we shall analyze whether GDP per capita is related to dropout rates in schools and colleges."
   ]
  },
  {
   "cell_type": "markdown",
   "metadata": {},
   "source": [
    "### Part I: GDP Analysis of the State\n",
    "<i> Note: </i>Plots made should preferably be in ascending/ descending order for easy interpretation\n",
    "\n",
    "The steps for the analysis of Part 1-A will include the below steps (in no particular order):\n",
    "- Loading the csvs from a set folder that consists of all the necessary data\n",
    "- Performing sense checks on data to ensure that there are no corrupt files\n",
    "- Analysis of missing values\n",
    "- Treatment of missing values\n",
    "- Graph (in ascending/ descending order) showing \"% Growth over previous year\" for <b>All States</b> using line graphs. Use best fit line to represent growth for each state\n",
    "- Similar graph representing the growth of the nation as well"
   ]
  },
  {
   "cell_type": "code",
   "execution_count": null,
   "metadata": {},
   "outputs": [],
   "source": []
  },
  {
   "cell_type": "markdown",
   "metadata": {},
   "source": [
    "Post the cleaning of data and analysis of the same, we shall now proceed to answer the following questions:\n",
    "\n",
    "1. How will you compare the growth rates of any two states?\n",
    "     - \n",
    "\n",
    "2. Which states have been growing consistently fast, and which ones have been struggling? Rank top 3 fastest and 3 slowest-growing states.\n",
    "    - \n",
    "\n",
    "3. What is the Nation's average?\n",
    "    - \n",
    "\n",
    "4. What has been the average growth rate of your home state, and how does it compare to the national average?\n",
    "    - \n",
    "    "
   ]
  },
  {
   "cell_type": "markdown",
   "metadata": {},
   "source": [
    "Now that we have answered the above questions, we shall now proceed to perform the following analysis:\n",
    "#### Plot the total GDP of the states for the year 2015-16:\n",
    "1. Which Plot will you use for this? Why? (Remeber to plot the graph in a way such as it is easier to read and compare)\n",
    "\n",
    "2. Identify the top 5 and the bottom 5 states based on total GDP.\n",
    "\n",
    "3. What insights can you draw from this graph? What states are performing poorly? (Remember: this will not be solely based on total GDP)"
   ]
  },
  {
   "cell_type": "markdown",
   "metadata": {},
   "source": [
    "### Part I-B\n",
    "\n",
    "<i>Note: The analysis is to be done for the years of 2014-15</i>\n",
    "\n",
    "The analysis is to be formed for Indian States (exclusing union territories)\n",
    "\n",
    "Following are the steps to be followed:\n",
    "- Plot the GDP per capita for all the states.\n",
    "     - Identify the top 5 and the bottom 5 states based on the GDP per capita.\n",
    "     - Find the ratio of the highest per capita GDP to the lowest per capita GDP.\n",
    "     \n",
    "\n",
    "- Plot the percentage contribution of the primary, secondary and tertiary sectors as a percentage of the total GDP for all the states.\n",
    "    - Which plot will you use here? Why?\n",
    "    - Why is (Primary + Secondary + Tertiary) not equal to total GDP?\n",
    "    - Can you draw any insight from this? Find correlation of percentile of the state (% of states with lower GDP) and %contribution of Primary sector to total GDP.\n",
    "\n",
    "\n",
    "- Categorise the states into four groups based on the GDP per capita (C1, C2, C3, C4, where C1 would have the highest per capita GDP and C4, the lowest). The quantile values are (0.20,0.5, 0.85, 1), i.e., the states lying between the 85th and the 100th percentile are in C1; those between the 50th and the 85th percentiles are in C2, and so on.\n",
    "\n",
    "For each category (C1, C2, C3, C4):\n",
    "Find the top 3/4/5 sub-sectors (such as agriculture, forestry and fishing, crops, manufacturing etc., not primary, secondary and tertiary) that contribute to approximately 80% of the GSDP of each category.\n",
    "\n",
    "    - Note-I: The nomenclature for this project is as follows: primary, secondary and tertiary are named 'sectors', while agriculture, manufacturing etc. are named 'sub-sectors'.\n",
    "\n",
    "    - Note-II: If the top 3 sub-sectors contribute to, say, 79% of the GDP of some category, you can report \"These top 3 sub-sectors contribute to approximately 80% of the GDP\". This is to simplify the analysis and make the results consumable. (Remember, the CEO has to present the report to the CMs, and CMs have limited time; so, the analysis needs to be sharp and concise.)\n",
    "\n",
    "Plot the contribution of the sub-sectors as a percentage of the GSDP of each category.  "
   ]
  },
  {
   "cell_type": "markdown",
   "metadata": {},
   "source": [
    "Now that you have summarised the data in the form of plots, tables, etc., try to draw non-obvious insights from it. Think about questions such as:\n",
    "\n",
    "- How does the GDP distribution of the top states (C1) differ from the others?\n",
    "- Which sub-sectors seem to be correlated with high GDP?\n",
    "- Which sub-sectors do the various categories need to focus on? \n",
    "\n",
    "Ask other such relevant questions, which you think are important, and note your insights for category separately. More insights are welcome and will be awarded accordingly.\n",
    "\n",
    "Finally, provide at least two recommendations for each category to improve the per capita GDP."
   ]
  },
  {
   "cell_type": "markdown",
   "metadata": {},
   "source": [
    "### Part-II: GDP and Education Dropout Rates\n",
    "\n",
    "In Part-I, you would have noticed that (one) way to increase per capita GDP is by shifting the distribution of GDP towards the secondary and tertiary sectors, i.e., the manufacturing and services industries. But these industries can thrive only when there is an availability of educated and skilled labour.\n",
    "\n",
    "In this part of the analysis, you will investigate whether there is any relationship between per capita GDP with dropout rates in education."
   ]
  },
  {
   "cell_type": "markdown",
   "metadata": {},
   "source": [
    "- Analyse if there is any correlation of GDP per capita with dropout rates in education (primary, upper primary and secondary) for the year 2014-2015 for each state. Choose an appropriate plot to conduct this analysis.\n",
    "    - Is there any correlation between dropout rate and %contribution of each sector (Primary, Secondary and Tertiary) to the total GDP?\n",
    "\n",
    "\n",
    "- You have the total population of each state from the data in part I. Is there any correlation between dropout rates and population? What is the expected trend and what is the observation?\n",
    "\n",
    "\n",
    "- Write down the key insights you draw from this data:\n",
    "    - Form at least one reasonable hypothesis for the observations from the data\n",
    "\n",
    " "
   ]
  },
  {
   "cell_type": "code",
   "execution_count": null,
   "metadata": {},
   "outputs": [],
   "source": []
  },
  {
   "cell_type": "code",
   "execution_count": null,
   "metadata": {},
   "outputs": [],
   "source": []
  },
  {
   "cell_type": "code",
   "execution_count": null,
   "metadata": {},
   "outputs": [],
   "source": []
  },
  {
   "cell_type": "code",
   "execution_count": null,
   "metadata": {},
   "outputs": [],
   "source": []
  },
  {
   "cell_type": "code",
   "execution_count": null,
   "metadata": {},
   "outputs": [],
   "source": []
  },
  {
   "cell_type": "code",
   "execution_count": null,
   "metadata": {},
   "outputs": [],
   "source": []
  },
  {
   "cell_type": "code",
   "execution_count": null,
   "metadata": {},
   "outputs": [],
   "source": []
  },
  {
   "cell_type": "code",
   "execution_count": null,
   "metadata": {},
   "outputs": [],
   "source": []
  },
  {
   "cell_type": "code",
   "execution_count": null,
   "metadata": {},
   "outputs": [],
   "source": []
  },
  {
   "cell_type": "code",
   "execution_count": null,
   "metadata": {},
   "outputs": [],
   "source": []
  },
  {
   "cell_type": "code",
   "execution_count": null,
   "metadata": {},
   "outputs": [],
   "source": []
  },
  {
   "cell_type": "code",
   "execution_count": null,
   "metadata": {},
   "outputs": [],
   "source": []
  },
  {
   "cell_type": "code",
   "execution_count": null,
   "metadata": {},
   "outputs": [],
   "source": []
  },
  {
   "cell_type": "code",
   "execution_count": null,
   "metadata": {},
   "outputs": [],
   "source": []
  },
  {
   "cell_type": "code",
   "execution_count": null,
   "metadata": {},
   "outputs": [],
   "source": []
  },
  {
   "cell_type": "code",
   "execution_count": null,
   "metadata": {},
   "outputs": [],
   "source": []
  },
  {
   "cell_type": "code",
   "execution_count": null,
   "metadata": {},
   "outputs": [],
   "source": []
  },
  {
   "cell_type": "code",
   "execution_count": null,
   "metadata": {},
   "outputs": [],
   "source": []
  },
  {
   "cell_type": "code",
   "execution_count": null,
   "metadata": {},
   "outputs": [],
   "source": []
  },
  {
   "cell_type": "code",
   "execution_count": null,
   "metadata": {},
   "outputs": [],
   "source": []
  }
 ],
 "metadata": {
  "kernelspec": {
   "display_name": "Python 3",
   "language": "python",
   "name": "python3"
  },
  "language_info": {
   "codemirror_mode": {
    "name": "ipython",
    "version": 3
   },
   "file_extension": ".py",
   "mimetype": "text/x-python",
   "name": "python",
   "nbconvert_exporter": "python",
   "pygments_lexer": "ipython3",
   "version": "3.7.1"
  }
 },
 "nbformat": 4,
 "nbformat_minor": 2
}
