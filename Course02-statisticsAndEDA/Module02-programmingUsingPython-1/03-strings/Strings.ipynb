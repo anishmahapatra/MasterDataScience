{
 "cells": [
  {
   "cell_type": "code",
   "execution_count": 1,
   "metadata": {},
   "outputs": [
    {
     "name": "stdout",
     "output_type": "stream",
     "text": [
      "3\n"
     ]
    }
   ],
   "source": [
    "print(chr(51))"
   ]
  },
  {
   "cell_type": "code",
   "execution_count": 11,
   "metadata": {},
   "outputs": [
    {
     "data": {
      "text/plain": [
       "'upGrad'"
      ]
     },
     "execution_count": 11,
     "metadata": {},
     "output_type": "execute_result"
    }
   ],
   "source": [
    "s='aabupGradaab'.strip('aab')\n",
    "s"
   ]
  },
  {
   "cell_type": "code",
   "execution_count": 13,
   "metadata": {},
   "outputs": [
    {
     "data": {
      "text/plain": [
       "'upGrad'"
      ]
     },
     "execution_count": 13,
     "metadata": {},
     "output_type": "execute_result"
    }
   ],
   "source": [
    "s='aabupGradaab'.strip('a').strip('b').strip('a')\n",
    "s"
   ]
  },
  {
   "cell_type": "code",
   "execution_count": 22,
   "metadata": {},
   "outputs": [
    {
     "name": "stdout",
     "output_type": "stream",
     "text": [
      "I love python\n",
      "['python', 'love', 'I']\n"
     ]
    },
    {
     "data": {
      "text/plain": [
       "list"
      ]
     },
     "execution_count": 22,
     "metadata": {},
     "output_type": "execute_result"
    }
   ],
   "source": [
    "#take input here\n",
    "\n",
    "sentence=input()\n",
    "mylist = sentence.split(' ')\n",
    "rev = mylist[::-1]\n",
    "#reverse the words of the sentence here\n",
    "print(rev)\n",
    "\n",
    "\n",
    "type(rev)"
   ]
  },
  {
   "cell_type": "code",
   "execution_count": 24,
   "metadata": {},
   "outputs": [
    {
     "data": {
      "text/plain": [
       "int"
      ]
     },
     "execution_count": 24,
     "metadata": {},
     "output_type": "execute_result"
    }
   ],
   "source": [
    "type(43)"
   ]
  },
  {
   "cell_type": "code",
   "execution_count": 25,
   "metadata": {},
   "outputs": [
    {
     "name": "stdout",
     "output_type": "stream",
     "text": [
      "3,213\n"
     ]
    }
   ],
   "source": [
    "value=input()\n",
    "value_split = value.split(',')\n",
    "value_int = int(\"\".join(value_split))\n",
    "#start writing your code from here"
   ]
  },
  {
   "cell_type": "code",
   "execution_count": 16,
   "metadata": {},
   "outputs": [
    {
     "name": "stdout",
     "output_type": "stream",
     "text": [
      "['ytkveh', 4]\n",
      "upgrad\n"
     ]
    }
   ],
   "source": [
    "#take input on your own\n",
    "import ast \n",
    "input_list = ast.literal_eval(input())\n",
    "\n",
    "s = input_list[0]\n",
    "n = input_list[1]\n",
    "def shift(s, n):\n",
    "     return ''.join(chr((ord(char) - 97 - n) % 26 + 97) for char in s)\n",
    "print(shift(s,n))\n",
    "\n",
    "#start writing your code from here\n"
   ]
  },
  {
   "cell_type": "code",
   "execution_count": 8,
   "metadata": {},
   "outputs": [
    {
     "data": {
      "text/plain": [
       "75"
      ]
     },
     "execution_count": 8,
     "metadata": {},
     "output_type": "execute_result"
    }
   ],
   "source": [
    "ord('K')"
   ]
  },
  {
   "cell_type": "code",
   "execution_count": 15,
   "metadata": {},
   "outputs": [
    {
     "data": {
      "text/plain": [
       "71"
      ]
     },
     "execution_count": 15,
     "metadata": {},
     "output_type": "execute_result"
    }
   ],
   "source": [
    "ord('G')"
   ]
  },
  {
   "cell_type": "code",
   "execution_count": null,
   "metadata": {},
   "outputs": [],
   "source": [
    "n=input()\n",
    "\n",
    "# Python program to sum the given series \n",
    "  \n",
    "# Returns sum of n + nn + nnn + .... (m times) \n",
    "def Series(n, m): \n",
    "  \n",
    "    # Converting the number to string \n",
    "    str_n = str(n) \n",
    "  \n",
    "    # Initializing result as number and string \n",
    "    sums = n \n",
    "    sum_str = str(n) \n",
    "  \n",
    "    # Adding remaining terms \n",
    "    for i in range(1, m): \n",
    "        # Concatenating the string making n, nn, nnn... \n",
    "        sum_str = sum_str + str_n \n",
    "\n",
    "    return sum_str\n",
    "    \n",
    "print(Series(n, n))"
   ]
  }
 ],
 "metadata": {
  "kernelspec": {
   "display_name": "Python 3",
   "language": "python",
   "name": "python3"
  }
 },
 "nbformat": 4,
 "nbformat_minor": 2
}
