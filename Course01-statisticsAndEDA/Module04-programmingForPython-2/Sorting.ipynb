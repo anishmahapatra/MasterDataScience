{
 "cells": [
  {
   "cell_type": "markdown",
   "metadata": {},
   "source": [
    "## Insertion Sort\n",
    "\n",
    "This is a O(n^2) algorithm, that works in similar ways as to how we would pick up a card and insert it in the sorted deck in our hand."
   ]
  },
  {
   "cell_type": "code",
   "execution_count": 6,
   "metadata": {},
   "outputs": [
    {
     "name": "stdout",
     "output_type": "stream",
     "text": [
      "6,5,4,3,2,1\n",
      "[1, 2, 3, 4, 5, 6]\n"
     ]
    }
   ],
   "source": [
    "import ast\n",
    "b = ast.literal_eval(input())\n",
    "a = list(map(int, b))\n",
    "\n",
    "for i in range(len(a)):\n",
    "    k = a[i]\n",
    "    j = i-1\n",
    "    while (a[j]>k and j>=0):\n",
    "        a[j+1] = a[j]\n",
    "        j -= 1\n",
    "    a[j+1] = k\n",
    "    \n",
    "print(a)"
   ]
  },
  {
   "cell_type": "markdown",
   "metadata": {},
   "source": [
    "## Selection Sort\n",
    "This is a O(n^2) algorithm where we iterate through the array, find the minimum index, and swap with first element of the unsorted part of the array."
   ]
  },
  {
   "cell_type": "code",
   "execution_count": 7,
   "metadata": {
    "scrolled": true
   },
   "outputs": [
    {
     "name": "stdout",
     "output_type": "stream",
     "text": [
      "6,5,4,3,2,1\n",
      "[1, 2, 3, 4, 5, 6]\n"
     ]
    }
   ],
   "source": [
    "import ast\n",
    "b = ast.literal_eval(input())\n",
    "a = list(map(int, b))\n",
    "\n",
    "for i in range(len(a)):\n",
    "    min_idx = i\n",
    "    for j in range(i+1, len(a)):\n",
    "        if a[min_idx] > a[j]:\n",
    "            min_idx = j\n",
    "    # swap\n",
    "    a[i], a[min_idx] = a[min_idx], a[i]\n",
    "\n",
    "print(a)\n",
    "       "
   ]
  },
  {
   "cell_type": "code",
   "execution_count": 1,
   "metadata": {},
   "outputs": [
    {
     "data": {
      "text/plain": [
       "[20, 10, 15, 5, 29]"
      ]
     },
     "execution_count": 1,
     "metadata": {},
     "output_type": "execute_result"
    }
   ],
   "source": [
    "def func(x):\n",
    "     return x % 10\n",
    "\n",
    "L = [15, 20, 5, 29, 10]\n",
    "sorted(L, key = func)"
   ]
  },
  {
   "cell_type": "code",
   "execution_count": 2,
   "metadata": {},
   "outputs": [
    {
     "data": {
      "text/plain": [
       "5"
      ]
     },
     "execution_count": 2,
     "metadata": {},
     "output_type": "execute_result"
    }
   ],
   "source": [
    "def Unknown_func(number):\n",
    "    if(number == 1):\n",
    "        return (0)\n",
    "    else:\n",
    "        return (1 + Unknown_func(number//2))\n",
    "    \n",
    "Unknown_func(63)"
   ]
  },
  {
   "cell_type": "code",
   "execution_count": 3,
   "metadata": {},
   "outputs": [
    {
     "data": {
      "text/plain": [
       "8"
      ]
     },
     "execution_count": 3,
     "metadata": {},
     "output_type": "execute_result"
    }
   ],
   "source": [
    "def Unknown_func(n):\n",
    "    if n <= 1:\n",
    "        return(n)\n",
    "    else:\n",
    "        return (Unknown_func(n-1) + Unknown_func(n-2))\n",
    "Unknown_func(6)"
   ]
  },
  {
   "cell_type": "code",
   "execution_count": null,
   "metadata": {},
   "outputs": [],
   "source": []
  },
  {
   "cell_type": "code",
   "execution_count": null,
   "metadata": {},
   "outputs": [],
   "source": []
  },
  {
   "cell_type": "code",
   "execution_count": null,
   "metadata": {},
   "outputs": [],
   "source": []
  },
  {
   "cell_type": "code",
   "execution_count": null,
   "metadata": {},
   "outputs": [],
   "source": []
  }
 ],
 "metadata": {
  "kernelspec": {
   "display_name": "Python 3",
   "language": "python",
   "name": "python3"
  },
  "language_info": {
   "codemirror_mode": {
    "name": "ipython",
    "version": 3
   },
   "file_extension": ".py",
   "mimetype": "text/x-python",
   "name": "python",
   "nbconvert_exporter": "python",
   "pygments_lexer": "ipython3",
   "version": "3.7.1"
  }
 },
 "nbformat": 4,
 "nbformat_minor": 2
}
