{
 "cells": [
  {
   "cell_type": "markdown",
   "metadata": {},
   "source": [
    "## Assignment GDP Analysis\n",
    "<i><b> Author:</b> <u>Anish Mahapatra</u></i>\n",
    "\n",
    "The purpose of this the overall GDP Analysis is to help identify areas to focus on that will foster economic development for the respective states. This will be done by analyzing the GDP.\n",
    "\n",
    "<b>GDP:</b> Monetary value of final goods and services produced by a country/state in a given period of time. It mostly consists of the following three sectors:\n",
    "- Primary sector (agriculture)\n",
    "- Secondary sector (industry)\n",
    "- Tertiary sector (services)\n",
    "\n",
    "In the <b>first part</b> of the analysis, the following steps will be taken care of:\n",
    "- the GSDP of Indian States - both total and per capita will be analyzed\n",
    "- The States will be divided into 4 cases on the basis of GSDP analysis\n",
    "- Post categorizaion, analysis will be done to identify the sectors that contribute the most to GDP\n",
    "\n",
    "In the <b>second part</b> of the analysis, we shall analyze whether GDP per capita is related to dropout rates in schools and colleges."
   ]
  },
  {
   "cell_type": "markdown",
   "metadata": {},
   "source": [
    "### Part 1: GDP Analysis of the State\n",
    "<i> Note: </i>Plots made should preferably be in ascending/ descending order for easy interpretation\n",
    "\n",
    "The steps for the analysis of Part 1-A will include the below steps (in no particular order):\n",
    "- Loading the csvs from a set folder that consists of all the necessary data\n",
    "- Performing sense checks on data to ensure that there are no corrupt files\n",
    "- Analysis of missing values\n",
    "- Treatment of missing values\n",
    "- Graph (in ascending/ descending order) showing \"% Growth over previous year\" for <b>All States</b> using line graphs. Use best fit line to represent growth for each state\n",
    "- Similar graph representing the growth of the nation as well"
   ]
  },
  {
   "cell_type": "code",
   "execution_count": null,
   "metadata": {},
   "outputs": [],
   "source": []
  },
  {
   "cell_type": "markdown",
   "metadata": {},
   "source": [
    "Post the cleaning of data and analysis of the same, we shall now proceed to answer the following questions:\n",
    "\n",
    "1. How will you compare the growth rates of any two states?\n",
    "\n",
    "A. \n",
    "\n",
    "2. Which states have been growing consistently fast, and which ones have been struggling? Rank top 3 fastest and 3 slowest-growing states.\n",
    "\n",
    "A. \n",
    "\n",
    "3. What is the Nation's average?\n",
    "\n",
    "A. \n",
    "\n",
    "4. What has been the average growth rate of your home state, and how does it compare to the national average?\n",
    "\n",
    "A."
   ]
  },
  {
   "cell_type": "markdown",
   "metadata": {},
   "source": [
    "Now that we have answered the above questions, we shall now proceed to perform the following analysis:\n",
    "#### Plot the total GDP of the states for the year 2015-16:\n",
    "1. Which Plot will you use for this? Why? (Remeber to plot the graph in a way such as it is easier to read and compare)\n",
    "\n",
    "2. Identify the top 5 and the bottom 5 states based on total GDP.\n",
    "\n",
    "3. What insights can you draw from this graph? What states are performing poorly? (Remember: this will not be solely based on total GDP)"
   ]
  },
  {
   "cell_type": "code",
   "execution_count": null,
   "metadata": {},
   "outputs": [],
   "source": []
  },
  {
   "cell_type": "code",
   "execution_count": null,
   "metadata": {},
   "outputs": [],
   "source": []
  },
  {
   "cell_type": "code",
   "execution_count": null,
   "metadata": {},
   "outputs": [],
   "source": []
  },
  {
   "cell_type": "code",
   "execution_count": null,
   "metadata": {},
   "outputs": [],
   "source": []
  },
  {
   "cell_type": "code",
   "execution_count": null,
   "metadata": {},
   "outputs": [],
   "source": []
  },
  {
   "cell_type": "code",
   "execution_count": null,
   "metadata": {},
   "outputs": [],
   "source": []
  },
  {
   "cell_type": "code",
   "execution_count": null,
   "metadata": {},
   "outputs": [],
   "source": []
  },
  {
   "cell_type": "code",
   "execution_count": null,
   "metadata": {},
   "outputs": [],
   "source": []
  },
  {
   "cell_type": "code",
   "execution_count": null,
   "metadata": {},
   "outputs": [],
   "source": []
  },
  {
   "cell_type": "code",
   "execution_count": null,
   "metadata": {},
   "outputs": [],
   "source": []
  },
  {
   "cell_type": "code",
   "execution_count": null,
   "metadata": {},
   "outputs": [],
   "source": []
  },
  {
   "cell_type": "code",
   "execution_count": null,
   "metadata": {},
   "outputs": [],
   "source": []
  },
  {
   "cell_type": "code",
   "execution_count": null,
   "metadata": {},
   "outputs": [],
   "source": []
  },
  {
   "cell_type": "code",
   "execution_count": null,
   "metadata": {},
   "outputs": [],
   "source": []
  },
  {
   "cell_type": "code",
   "execution_count": null,
   "metadata": {},
   "outputs": [],
   "source": []
  },
  {
   "cell_type": "code",
   "execution_count": null,
   "metadata": {},
   "outputs": [],
   "source": []
  },
  {
   "cell_type": "code",
   "execution_count": null,
   "metadata": {},
   "outputs": [],
   "source": []
  },
  {
   "cell_type": "code",
   "execution_count": null,
   "metadata": {},
   "outputs": [],
   "source": []
  },
  {
   "cell_type": "code",
   "execution_count": null,
   "metadata": {},
   "outputs": [],
   "source": []
  },
  {
   "cell_type": "code",
   "execution_count": null,
   "metadata": {},
   "outputs": [],
   "source": []
  },
  {
   "cell_type": "code",
   "execution_count": null,
   "metadata": {},
   "outputs": [],
   "source": []
  },
  {
   "cell_type": "code",
   "execution_count": null,
   "metadata": {},
   "outputs": [],
   "source": []
  },
  {
   "cell_type": "code",
   "execution_count": null,
   "metadata": {},
   "outputs": [],
   "source": []
  },
  {
   "cell_type": "code",
   "execution_count": null,
   "metadata": {},
   "outputs": [],
   "source": []
  }
 ],
 "metadata": {
  "kernelspec": {
   "display_name": "Python 3",
   "language": "python",
   "name": "python3"
  },
  "language_info": {
   "codemirror_mode": {
    "name": "ipython",
    "version": 3
   },
   "file_extension": ".py",
   "mimetype": "text/x-python",
   "name": "python",
   "nbconvert_exporter": "python",
   "pygments_lexer": "ipython3",
   "version": "3.7.1"
  }
 },
 "nbformat": 4,
 "nbformat_minor": 2
}
