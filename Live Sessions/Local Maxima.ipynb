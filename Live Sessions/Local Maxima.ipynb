{
 "cells": [
  {
   "cell_type": "code",
   "execution_count": 1,
   "metadata": {},
   "outputs": [],
   "source": [
    "import ast,sys\n",
    "import numpy as np\n",
    "input_str = sys.stdin.read()\n",
    "input_list = ast.literal_eval(input_str)\n",
    "n = len(input_list)\n",
    "#write your code here\n",
    "l = []\n",
    "def findPeakUtil(arr, low, high, n): \n",
    "      \n",
    "     # Find index of middle element \n",
    "     # (low + high)/2  \n",
    "    mid = low + (high - low)/2 \n",
    "    mid = int(mid) \n",
    "      \n",
    "    # Compare middle element with its  \n",
    "    # neighbours (if neighbours exist) \n",
    "    if ((mid == 0 or arr[mid - 1] <= arr[mid]) and (mid == n - 1 or arr[mid + 1] <= arr[mid])):\n",
    "        l.append(mid)\n",
    "\n",
    "    # If middle element is not peak and  \n",
    "    # its left neighbour is greater  \n",
    "    # than it, then left half must  \n",
    "    # have a peak element \n",
    "    elif (mid > 0 and arr[mid - 1] > arr[mid]): \n",
    "        return findPeakUtil(arr, low, (mid - 1), n) \n",
    "  \n",
    "    # If middle element is not peak and \n",
    "    # its right neighbour is greater \n",
    "    # than it, then right half must  \n",
    "    # have a peak element \n",
    "    else: \n",
    "        return findPeakUtil(arr, (mid + 1), high, n) \n",
    "        \n",
    "    return l\n",
    "  \n",
    "  \n",
    "# A wrapper over recursive  \n",
    "# function findPeakUtil() \n",
    "def findPeak(arr, n): \n",
    "    return findPeakUtil(arr, 0, n - 1, n) \n",
    "\n",
    "maximas=findPeak(input_list, n)\n",
    "#maximas=[int(x) for x in maximas] #do not change this code, the output should be an integer list for evaluation purposes\n",
    "print(maximas)\n"
   ]
  },
  {
   "cell_type": "code",
   "execution_count": null,
   "metadata": {},
   "outputs": [],
   "source": []
  },
  {
   "cell_type": "code",
   "execution_count": null,
   "metadata": {},
   "outputs": [],
   "source": []
  }
 ],
 "metadata": {
  "kernelspec": {
   "display_name": "Python 3",
   "language": "python",
   "name": "python3"
  },
  "language_info": {
   "codemirror_mode": {
    "name": "ipython",
    "version": 3
   },
   "file_extension": ".py",
   "mimetype": "text/x-python",
   "name": "python",
   "nbconvert_exporter": "python",
   "pygments_lexer": "ipython3",
   "version": "3.7.1"
  }
 },
 "nbformat": 4,
 "nbformat_minor": 2
}
