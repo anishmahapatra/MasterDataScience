{
 "cells": [
  {
   "cell_type": "code",
   "execution_count": 1,
   "metadata": {},
   "outputs": [
    {
     "name": "stdout",
     "output_type": "stream",
     "text": [
      "64\n"
     ]
    }
   ],
   "source": [
    "p=4**3\n",
    "print(p)"
   ]
  },
  {
   "cell_type": "code",
   "execution_count": 3,
   "metadata": {},
   "outputs": [
    {
     "data": {
      "text/plain": [
       "1"
      ]
     },
     "execution_count": 3,
     "metadata": {},
     "output_type": "execute_result"
    }
   ],
   "source": [
    "a=21 % 4\n",
    "a"
   ]
  },
  {
   "cell_type": "code",
   "execution_count": 4,
   "metadata": {},
   "outputs": [
    {
     "name": "stdout",
     "output_type": "stream",
     "text": [
      "4\n"
     ]
    }
   ],
   "source": [
    "d=23//5\n",
    "print(d)"
   ]
  },
  {
   "cell_type": "code",
   "execution_count": 20,
   "metadata": {},
   "outputs": [
    {
     "ename": "NameError",
     "evalue": "name 'prinnt' is not defined",
     "output_type": "error",
     "traceback": [
      "\u001b[1;31m---------------------------------------------------------------------------\u001b[0m",
      "\u001b[1;31mNameError\u001b[0m                                 Traceback (most recent call last)",
      "\u001b[1;32m<ipython-input-20-84073766e2ea>\u001b[0m in \u001b[0;36m<module>\u001b[1;34m\u001b[0m\n\u001b[0;32m      7\u001b[0m \u001b[0md\u001b[0m\u001b[1;33m=\u001b[0m\u001b[1;36m14\u001b[0m\u001b[1;33m\u001b[0m\u001b[1;33m\u001b[0m\u001b[0m\n\u001b[0;32m      8\u001b[0m \u001b[1;33m\u001b[0m\u001b[0m\n\u001b[1;32m----> 9\u001b[1;33m \u001b[0mprinnt\u001b[0m\u001b[1;33m(\u001b[0m\u001b[1;34m'{0} {1} {2}'\u001b[0m\u001b[1;33m.\u001b[0m\u001b[0mformat\u001b[0m\u001b[1;33m(\u001b[0m\u001b[0ma\u001b[0m\u001b[1;33m,\u001b[0m\u001b[0mb\u001b[0m\u001b[1;33m,\u001b[0m\u001b[0mc\u001b[0m\u001b[1;33m)\u001b[0m \u001b[1;33m)\u001b[0m\u001b[1;33m\u001b[0m\u001b[1;33m\u001b[0m\u001b[0m\n\u001b[0m\u001b[0;32m     10\u001b[0m \u001b[1;33m\u001b[0m\u001b[0m\n\u001b[0;32m     11\u001b[0m \u001b[0mprint\u001b[0m\u001b[1;33m(\u001b[0m\u001b[0md\u001b[0m\u001b[1;33m)\u001b[0m\u001b[1;33m\u001b[0m\u001b[1;33m\u001b[0m\u001b[0m\n",
      "\u001b[1;31mNameError\u001b[0m: name 'prinnt' is not defined"
     ]
    }
   ],
   "source": [
    "a=11\n",
    "\n",
    "b=12\n",
    "\n",
    "c=13 \n",
    "\n",
    "d=14\n",
    "\n",
    "prinnt('{0} {1} {2}'.format(a,b,c) )\n",
    "\n",
    "print(d)"
   ]
  },
  {
   "cell_type": "code",
   "execution_count": 26,
   "metadata": {},
   "outputs": [
    {
     "name": "stdout",
     "output_type": "stream",
     "text": [
      "0\n",
      "00.0\n"
     ]
    }
   ],
   "source": [
    "num = str(100)\n",
    "n = len(num)\n",
    "num = int(num)\n",
    "str_num = ''\n",
    "for i in (1, n+1): \n",
    "    first_digit = num%10\n",
    "    str_num += str(first_digit)\n",
    "    print(str_num)\n",
    "    num = num/10\n",
    "str_num = float(str_num)\n",
    "#print(str_num)"
   ]
  },
  {
   "cell_type": "code",
   "execution_count": 27,
   "metadata": {},
   "outputs": [
    {
     "name": "stdout",
     "output_type": "stream",
     "text": [
      "inf\n"
     ]
    }
   ],
   "source": [
    "#take input of the number here\n",
    "num = int(100)\n",
    "reverse = 0\n",
    "while (num > 0):\n",
    "    reminder = num % 10\n",
    "    reverse = (reverse * 10) + reminder\n",
    "    num = num / 10\n",
    "print( reverse )\n",
    "#write code to reverse the number here"
   ]
  },
  {
   "cell_type": "code",
   "execution_count": 28,
   "metadata": {},
   "outputs": [
    {
     "data": {
      "text/plain": [
       "5.0"
      ]
     },
     "execution_count": 28,
     "metadata": {},
     "output_type": "execute_result"
    }
   ],
   "source": [
    "#15 rupees\n",
    "15/2 = 7 chocolates\n",
    "7 wrappers => 2 chocolates\n",
    "Total = 9 chocolates"
   ]
  },
  {
   "cell_type": "code",
   "execution_count": 29,
   "metadata": {},
   "outputs": [
    {
     "data": {
      "text/plain": [
       "30"
      ]
     },
     "execution_count": 29,
     "metadata": {},
     "output_type": "execute_result"
    }
   ],
   "source": [
    "15*2 #30 rupees for 15 chocolates"
   ]
  },
  {
   "cell_type": "code",
   "execution_count": 30,
   "metadata": {},
   "outputs": [
    {
     "data": {
      "text/plain": [
       "20"
      ]
     },
     "execution_count": 30,
     "metadata": {},
     "output_type": "execute_result"
    }
   ],
   "source": [
    "15 rupees"
   ]
  },
  {
   "cell_type": "code",
   "execution_count": 1,
   "metadata": {},
   "outputs": [
    {
     "name": "stdout",
     "output_type": "stream",
     "text": [
      "15,2\n"
     ]
    }
   ],
   "source": [
    "input_str = str(input())"
   ]
  },
  {
   "cell_type": "code",
   "execution_count": 5,
   "metadata": {},
   "outputs": [
    {
     "data": {
      "text/plain": [
       "str"
      ]
     },
     "execution_count": 5,
     "metadata": {},
     "output_type": "execute_result"
    }
   ],
   "source": [
    "type(input_str)"
   ]
  },
  {
   "cell_type": "code",
   "execution_count": 12,
   "metadata": {},
   "outputs": [
    {
     "name": "stdout",
     "output_type": "stream",
     "text": [
      "hello \n",
      "hi\n"
     ]
    }
   ],
   "source": [
    "print('hello ', sep='')\n",
    "print('hi')"
   ]
  },
  {
   "cell_type": "code",
   "execution_count": 7,
   "metadata": {},
   "outputs": [
    {
     "name": "stdout",
     "output_type": "stream",
     "text": [
      "15,2\n",
      "10\n"
     ]
    }
   ],
   "source": [
    "#take input here\n",
    "mystring = str(input())\n",
    "input_str = mystring.split(',')\n",
    "\n",
    "money = int(input_str[0])\n",
    "cost = int(input_str[1])\n",
    "\n",
    "number_of_chocolates = money//cost\n",
    "number_of_wrappers = money//cost\n",
    "\n",
    "while (number_of_wrappers //3 != 0):\n",
    "    number_of_chocolates = number_of_chocolates + number_of_wrappers // 3\n",
    "    number_of_wrappers = number_of_wrappers // 3 + number_of_wrappers % 3\n",
    "print(number_of_chocolates)"
   ]
  },
  {
   "cell_type": "code",
   "execution_count": 14,
   "metadata": {},
   "outputs": [],
   "source": [
    "n = 5"
   ]
  },
  {
   "cell_type": "code",
   "execution_count": 23,
   "metadata": {},
   "outputs": [
    {
     "name": "stdout",
     "output_type": "stream",
     "text": [
      "    *\n",
      "   *_*\n",
      "  *_*_*\n",
      " *_*_*_*\n",
      "*_*_*_*_*\n"
     ]
    }
   ],
   "source": [
    "for i in range(1, n+1):\n",
    "    for j in range(n - i):\n",
    "        print (' ', end='')\n",
    "    for k in range(i-1):\n",
    "        print ('*_', end='')\n",
    "    print ('*')"
   ]
  },
  {
   "cell_type": "code",
   "execution_count": null,
   "metadata": {},
   "outputs": [],
   "source": [
    "--------e-------- 5\n",
    "------e-d-e------ \n",
    "----e-d-c-d-e---- \n",
    "--e-d-c-b-c-d-e-- \n",
    "e-d-c-b-a-b-c-d-e \n",
    "--e-d-c-b-c-d-e-- \n",
    "----e-d-c-d-e---- \n",
    "------e-d-e------ \n",
    "--------e-------- "
   ]
  },
  {
   "cell_type": "code",
   "execution_count": null,
   "metadata": {},
   "outputs": [],
   "source": [
    "# number = 5\n",
    "# letter = e\n",
    "# number of letters in the middle line  nlml = 5*2 - 1 = 9\n",
    "# number of spaces = (nlml - 1)"
   ]
  },
  {
   "cell_type": "code",
   "execution_count": 56,
   "metadata": {},
   "outputs": [
    {
     "name": "stdout",
     "output_type": "stream",
     "text": [
      "200\n",
      "False\n"
     ]
    }
   ],
   "source": [
    "str_num = str(input())\n",
    "power = len(str_num)\n",
    "num = int(str_num)\n",
    "n = num\n",
    "sum_arm = 0\n",
    "\n",
    "\n",
    "while (n != 0):\n",
    "    digit = n % 10\n",
    "    sum_arm = sum_arm + (digit)**power\n",
    "    n = n // 10\n",
    "#print(sum_arm)\n",
    "    \n",
    "if (num == sum_arm):\n",
    "    print (True)\n",
    "else:\n",
    "    print (False)"
   ]
  },
  {
   "cell_type": "code",
   "execution_count": 59,
   "metadata": {},
   "outputs": [
    {
     "name": "stdout",
     "output_type": "stream",
     "text": [
      "5\n",
      "0\n",
      "1\n",
      "1\n",
      "2\n",
      "3\n"
     ]
    }
   ],
   "source": [
    "# Fibonacci series\n",
    "n = int(input())\n",
    "n1 = 0\n",
    "n2 = 1\n",
    "count = 0\n",
    "\n",
    "if n == 1:\n",
    "    print(n1)\n",
    "else:\n",
    "    while count < n:\n",
    "        print(n1)\n",
    "        n_after = n1 + n2\n",
    "        n1 = n2\n",
    "        n2 = n_after\n",
    "        count = count + 1"
   ]
  },
  {
   "cell_type": "code",
   "execution_count": 63,
   "metadata": {},
   "outputs": [
    {
     "name": "stdout",
     "output_type": "stream",
     "text": [
      "10\n",
      "17\n"
     ]
    }
   ],
   "source": [
    "from math import sqrt\n",
    "\n",
    "N = int(input())\n",
    "\n",
    "for _ in range(N):\n",
    "    #N = int(input())\n",
    "\n",
    "    sum_of_primes = 0\n",
    "\n",
    "    if N < 2:\n",
    "        pass\n",
    "    elif N == 2:\n",
    "        sum_of_primes = 2\n",
    "    else:\n",
    "        sum_of_primes = 2\n",
    "\n",
    "        for number in range(3, N + 1, 2):\n",
    "\n",
    "            for odd in range(3, int(sqrt(number)) + 1, 2):\n",
    "                if (number % odd) == 0:\n",
    "                    break\n",
    "            else:  # no break\n",
    "                sum_of_primes += number\n",
    "\n",
    "print(sum_of_primes)"
   ]
  },
  {
   "cell_type": "code",
   "execution_count": null,
   "metadata": {},
   "outputs": [],
   "source": []
  }
 ],
 "metadata": {
  "kernelspec": {
   "display_name": "Python 3",
   "language": "python",
   "name": "python3"
  },
  "language_info": {
   "codemirror_mode": {
    "name": "ipython",
    "version": 3
   },
   "file_extension": ".py",
   "mimetype": "text/x-python",
   "name": "python",
   "nbconvert_exporter": "python",
   "pygments_lexer": "ipython3",
   "version": "3.7.1"
  }
 },
 "nbformat": 4,
 "nbformat_minor": 2
}
