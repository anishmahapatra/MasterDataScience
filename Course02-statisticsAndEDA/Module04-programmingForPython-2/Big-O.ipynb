{
 "cells": [
  {
   "cell_type": "code",
   "execution_count": 8,
   "metadata": {},
   "outputs": [
    {
     "name": "stdout",
     "output_type": "stream",
     "text": [
      "18\n",
      "0.015625\n"
     ]
    }
   ],
   "source": [
    "import time \n",
    "mylist=[1,2,3,4,5,6,7,8,9,1,2,3,4,5,6,7,8,9,0] #fill up the list with some integer values, as many as you want\n",
    "k= 0 #fill in this line too\n",
    "start = time.process_time() \n",
    "\n",
    "for i in range(len(mylist)):\n",
    "    if mylist[i]==k:\n",
    "        print(i)\n",
    "print(time.process_time() - start)"
   ]
  },
  {
   "cell_type": "code",
   "execution_count": 11,
   "metadata": {},
   "outputs": [
    {
     "ename": "SyntaxError",
     "evalue": "unexpected EOF while parsing (<ipython-input-11-c362c9c79154>, line 25)",
     "output_type": "error",
     "traceback": [
      "\u001b[1;36m  File \u001b[1;32m\"<ipython-input-11-c362c9c79154>\"\u001b[1;36m, line \u001b[1;32m25\u001b[0m\n\u001b[1;33m    print(rotateArrayBS(data, key)\u001b[0m\n\u001b[1;37m                                  ^\u001b[0m\n\u001b[1;31mSyntaxError\u001b[0m\u001b[1;31m:\u001b[0m unexpected EOF while parsing\n"
     ]
    }
   ],
   "source": [
    "import ast\n",
    "data = ast.literal_eval(input())\n",
    "key = int(input())\n",
    "\n",
    "# l = 0\n",
    "# r = len(data) - 1\n",
    "\n",
    "def rotateArrayBS(data, key):\n",
    "    l = 0\n",
    "    r = len(data) - 1\n",
    "    \n",
    "    while l<=r:\n",
    "        mid = (l + r) // 2\n",
    "        \n",
    "        if data[mid] == key:\n",
    "            return mid\n",
    "        \n",
    "        elif data[l] <= data[mid]:\n",
    "            \n",
    "            if key >= data[l] and key < data[mid]:\n",
    "                r = mid - 1\n",
    "            else:\n",
    "                l = mid + 1\n",
    "        elif data [l] > data[mid]:\n",
    "            if key > data[mid] and key <= data[r]:\n",
    "                l = mid +1\n",
    "            else:\n",
    "                r = mid -1 \n",
    "    return -1\n",
    "\n",
    "print(rotateArrayBS(data,key))"
   ]
  },
  {
   "cell_type": "code",
   "execution_count": null,
   "metadata": {},
   "outputs": [],
   "source": [
    "# start writing your code here\n",
    "import ast\n",
    "data = ast.literal_eval(input())\n",
    "key = int(input())\n",
    "\n",
    "\n",
    "def rotateArrayBS(data, key):\n",
    "    l = 0\n",
    "    r = len(data) - 1\n",
    "    \n",
    "    while l<=r:\n",
    "        mid = (l + r) // 2\n",
    "        \n",
    "        if data[mid] == key:\n",
    "            return mid\n",
    "        \n",
    "        elif data[l] >= data[mid]:\n",
    "            \n",
    "            if key <= data[l] and key > data[mid]:\n",
    "                r = mid - 1\n",
    "            else:\n",
    "                l = mid + 1\n",
    "        elif data [l] < data[mid]:\n",
    "            if key < data[mid] and key >= data[r]:\n",
    "                l = mid +1\n",
    "            else:\n",
    "                r = mid -1 \n",
    "    return -1\n",
    "\n",
    "print(rotateArrayBS(data,key))"
   ]
  }
 ],
 "metadata": {
  "kernelspec": {
   "display_name": "Python 3",
   "language": "python",
   "name": "python3"
  },
  "language_info": {
   "codemirror_mode": {
    "name": "ipython",
    "version": 3
   },
   "file_extension": ".py",
   "mimetype": "text/x-python",
   "name": "python",
   "nbconvert_exporter": "python",
   "pygments_lexer": "ipython3",
   "version": "3.7.1"
  }
 },
 "nbformat": 4,
 "nbformat_minor": 2
}
